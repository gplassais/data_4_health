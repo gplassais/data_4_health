{
 "cells": [
  {
   "cell_type": "markdown",
   "metadata": {},
   "source": [
    "# Linear optimization under constraints"
   ]
  },
  {
   "cell_type": "markdown",
   "metadata": {},
   "source": [
    "## 01. Imports"
   ]
  },
  {
   "cell_type": "code",
   "execution_count": 8,
   "metadata": {},
   "outputs": [],
   "source": [
    "import pandas as pd\n",
    "import numpy as np\n",
    "import matplotlib.pyplot as plt\n",
    "import time\n",
    "import datetime as dt \n",
    "import pulp\n",
    "from itertools import groupby"
   ]
  },
  {
   "cell_type": "markdown",
   "metadata": {},
   "source": [
    "## 02. Parameters"
   ]
  },
  {
   "cell_type": "code",
   "execution_count": 6,
   "metadata": {},
   "outputs": [],
   "source": [
    "DAY = pd.DataFrame(\n",
    "    columns=[\n",
    "        'Client', \n",
    "        'Location', \n",
    "        'Task', \n",
    "        'Start_min', \n",
    "        'End_max', \n",
    "        'Duration'\n",
    "    ]\n",
    ")\n",
    "\n",
    "TASKS_CLIENT = pd.DataFrame(\n",
    "    columns=[\n",
    "        'Id',\n",
    "        'Client', \n",
    "        'Task', \n",
    "        'Duration' # derived from DAY dataframe\n",
    "    ]\n",
    ")\n",
    "# set Id as index\n",
    "# keep 0 for traveling, 1 for waiting\n",
    "\n",
    "INTER = pd.DataFrame(columns=['ID Intervenant'])\n",
    "\n",
    "time_slots = list(range(24*12))"
   ]
  },
  {
   "cell_type": "markdown",
   "metadata": {},
   "source": [
    "## 03. Variables definition"
   ]
  },
  {
   "cell_type": "code",
   "execution_count": null,
   "metadata": {},
   "outputs": [],
   "source": [
    "def get_distance(prec_client_task, next_client_task):\n",
    "    return"
   ]
  },
  {
   "cell_type": "code",
   "execution_count": null,
   "metadata": {},
   "outputs": [],
   "source": [
    "# Define PuLP problem\n",
    "prob = pulp.LpProblem('HYBRID-UK', pulp.LpMaximize)\n",
    "\n",
    "# Variables are : for each intervenant, a list of actions x client (with a 5 min granularity)\n",
    "variables_dict = {\n",
    "    id_inter: {\n",
    "        k: pulp.LpVariable(\n",
    "            cat=\"Integer\",\n",
    "            lowBound=TASKS_CLIENT['Id'].min(),\n",
    "            upBound=TASKS_CLIENT['Id'].max(),\n",
    "            name=f\"inter_1_{k}\",\n",
    "        )\n",
    "        for k in time_slots\n",
    "    }\n",
    "    for id_inter in INTER['ID Intervenant']\n",
    "}\n",
    "\n",
    "is_traveling = {\n",
    "    id_inter: {\n",
    "        k: pulp.LpVariable(\n",
    "            cat=\"Integer\",\n",
    "            lowBound=0,\n",
    "            upBound=1,\n",
    "            name=f\"is_traveling_{k}\",\n",
    "        )\n",
    "        for k in time_slots\n",
    "    }\n",
    "    for id_inter in INTER['ID Intervenant']\n",
    "}\n",
    "for id_inter in is_traveling:\n",
    "    prob += is_traveling[id_inter] == [int(task_client!=0) for task_client in variables_dict[id_inter]]\n",
    "\n",
    "is_waiting = {\n",
    "    id_inter: {\n",
    "        k: pulp.LpVariable(\n",
    "            cat=\"Integer\",\n",
    "            lowBound=0,\n",
    "            upBound=1,\n",
    "            name=f\"is_waiting_{k}\",\n",
    "        )\n",
    "        for k in time_slots\n",
    "    }\n",
    "    for id_inter in INTER['ID Intervenant']\n",
    "}\n",
    "for id_inter in is_waiting:\n",
    "    prob += is_waiting[id_inter] == [int(task_client!=1) for task_client in variables_dict[id_inter]]\n",
    "\n",
    "is_at_same_client = {\n",
    "    id_inter: {\n",
    "        k: pulp.LpVariable(\n",
    "            cat=\"Integer\",\n",
    "            lowBound=0,\n",
    "            upBound=1,\n",
    "            name=f\"is_at_same_client_{k}\",\n",
    "        )\n",
    "        for k in time_slots\n",
    "    }\n",
    "    for id_inter in INTER['ID Intervenant']\n",
    "}\n",
    "for id_inter in is_waiting:\n",
    "    prob += is_waiting[id_inter] == [int(task_client!=1) for task_client in variables_dict[id_inter]]\n",
    "\n",
    "\n",
    "# CONSTRAINTS\n",
    "\n",
    "for inter, variable in variables_dict.items(): # for each client\n",
    "    # list of successive similar positions\n",
    "    grouped_variables = [list(group) for _, group in groupby(list(variable))]\n",
    "    unique_client_tasks = [var[0] for var in grouped_variables]\n",
    "    \n",
    "    # if activity chages between 2 timeslots, the intervenant is either traveling, waiting or doing another activity at the same client\n",
    "    for i in range(len(variable)-1):\n",
    "        if variable[i+1] != variable[i]:\n",
    "            prob += is_traveling[inter][i+1]+is_waiting[inter][i+1]+is_at_same_client[inter][i+1] == 1\n",
    "        \n",
    "        # having 0-1-0 is absurd (traveling - waiting - traveling)\n",
    "        # if there is a wait, we define by default that it shall be after a travel\n",
    "        if variable[i]==1:\n",
    "            prob += variable[i+1]>=1\n",
    "    \n",
    "    # successive timeslots doing 1 client_task shall match the task duration\n",
    "    for sublist in grouped_variables:\n",
    "        client_task_id = sublist[0]\n",
    "        duration = TASKS_CLIENT.loc[client_task_id]['Duration']\n",
    "        prob += len(sublist) == duration // 5\n",
    "    \n",
    "    # traveling shall match the expected travel duration\n",
    "    for i, sublist in enumerate(grouped_variables[1:-1]):\n",
    "        prec_client_task = grouped_variables[i-1][0]\n",
    "        next_client_task = grouped_variables[i+1][0]\n",
    "        if sublist[0]==0: # if the intervenant is traveling\n",
    "            prob += len(sublist) == get_distance(prec_client_task, next_client_task)\n",
    "    \n",
    "    \n",
    "    "
   ]
  },
  {
   "cell_type": "code",
   "execution_count": null,
   "metadata": {},
   "outputs": [],
   "source": []
  },
  {
   "cell_type": "code",
   "execution_count": null,
   "metadata": {},
   "outputs": [],
   "source": [
    "def get_duration(client_task_id):\n",
    "    return TASKS_CLIENT.loc[client_task_id]['Duration']"
   ]
  },
  {
   "cell_type": "code",
   "execution_count": 7,
   "metadata": {},
   "outputs": [
    {
     "data": {
      "text/plain": [
       "[0, 1, 2]"
      ]
     },
     "execution_count": 7,
     "metadata": {},
     "output_type": "execute_result"
    }
   ],
   "source": [
    "dict_1 = {\n",
    "    0: 1, \n",
    "    1: 3, \n",
    "    2: 3, \n",
    "}\n",
    "list(dict_1)"
   ]
  },
  {
   "cell_type": "markdown",
   "metadata": {},
   "source": [
    "## 04. Optimisation"
   ]
  },
  {
   "cell_type": "markdown",
   "metadata": {},
   "source": []
  }
 ],
 "metadata": {
  "kernelspec": {
   "display_name": "x-hec-solution",
   "language": "python",
   "name": "python3"
  },
  "language_info": {
   "codemirror_mode": {
    "name": "ipython",
    "version": 3
   },
   "file_extension": ".py",
   "mimetype": "text/x-python",
   "name": "python",
   "nbconvert_exporter": "python",
   "pygments_lexer": "ipython3",
   "version": "3.10.10"
  }
 },
 "nbformat": 4,
 "nbformat_minor": 2
}
